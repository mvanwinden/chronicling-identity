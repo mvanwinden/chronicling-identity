{
 "cells": [
  {
   "cell_type": "code",
   "execution_count": 50,
   "metadata": {},
   "outputs": [],
   "source": [
    "import pandas as pd\n",
    "import folium\n",
    "from folium.plugins import HeatMap\n",
    "import os"
   ]
  },
  {
   "cell_type": "markdown",
   "metadata": {},
   "source": [
    "`import_data`\n",
    "\n",
    "De nagelopen corpustabel wordt geladen. Komma's worden omgezet in punten en opgeslagen als `float` zodat deze als geldige coördinaten kunnen worden gelezen."
   ]
  },
  {
   "cell_type": "code",
   "execution_count": 51,
   "metadata": {},
   "outputs": [],
   "source": [
    "def import_data(corpus):\n",
    "    corpus_dataframe = pd.read_csv(corpus, sep='\\t')\n",
    "    corpus_dataframe['latitude'] = corpus_dataframe['latitude'].str.replace(',', '.').astype(float)\n",
    "    corpus_dataframe['longitude'] = corpus_dataframe['longitude'].str.replace(',', '.').astype(float)\n",
    "    corpus_dataframe = corpus_dataframe[corpus_dataframe['latitude'].notna()]\n",
    "    \n",
    "    return corpus_dataframe"
   ]
  },
  {
   "cell_type": "markdown",
   "metadata": {},
   "source": [
    "`create_heatmap`\n",
    "\n",
    "Er wordt een kaart gemaakt van de locaties die in het corpus worden genoemd. "
   ]
  },
  {
   "cell_type": "code",
   "execution_count": 52,
   "metadata": {},
   "outputs": [],
   "source": [
    "def create_map(current_dir, corpus_coordinates):\n",
    "    latitude = corpus_coordinates['latitude'].mean()\n",
    "    longitude = corpus_coordinates['longitude'].mean()\n",
    "    \n",
    "    heatmap_data = corpus_coordinates.groupby(['placename', 'latitude', 'longitude']).size().reset_index(name='count')\n",
    "    map = folium.Map(location=[latitude, longitude], control_scale=True, zoom_start = 8)\n",
    "\n",
    "    for index, row in heatmap_data.iterrows():\n",
    "        folium.CircleMarker([row['latitude'], \n",
    "                             row['longitude']], \n",
    "                             radius = 2.5, \n",
    "                             color = 'black', \n",
    "                             fill_color = '#3AB795', \n",
    "                             fill = True, \n",
    "                             fill_opacity = 1).add_to(map)\n",
    "\n",
    "    map.save(current_dir + '/output/corpus_locations.html')"
   ]
  },
  {
   "cell_type": "markdown",
   "metadata": {},
   "source": [
    "`create_chronicle_heatmaps`\n",
    "\n",
    "Er worden heat maps gemaakt op de kaart van de locaties die in het corpus worden genoemd. Het bestand `corpus_heatmap.html` bevat een heatmap voor de samengevoegde kronieken en de locaties die worden genoemd. Vervolgens wordt ook voor iedere unieke kroniek een heatmap gemaakt."
   ]
  },
  {
   "cell_type": "code",
   "execution_count": 53,
   "metadata": {},
   "outputs": [],
   "source": [
    "def create_chronicle_heatmaps(current_dir, corpus_coordinates):\n",
    "    latitude = corpus_coordinates['latitude'].mean()\n",
    "    longitude = corpus_coordinates['longitude'].mean()\n",
    "    \n",
    "    heatmap_data = corpus_coordinates.groupby(['placename', 'latitude', 'longitude']).size().reset_index(name='count')\n",
    "    map = folium.Map(location = [latitude, longitude], control_scale = True, zoom_start=8)\n",
    "    \n",
    "    heat_data = [[row['latitude'], \n",
    "                  row['longitude'], \n",
    "                  row['count']] for index, row in heatmap_data.iterrows()]\n",
    "    \n",
    "    HeatMap(heat_data).add_to(map)\n",
    "    map.save(current_dir + '/output/heatmaps/corpus_heatmap.html')\n",
    "\n",
    "    for kroniek_value in corpus_coordinates['kroniek'].unique():\n",
    "        filtered_dataframe = corpus_coordinates[corpus_coordinates['kroniek'] == kroniek_value]\n",
    "        heatmap_data = filtered_dataframe.groupby(['placename', 'latitude', 'longitude']).size().reset_index(name='count')\n",
    "        map = folium.Map(location = [latitude, longitude], zoom_start=8)\n",
    "        heat_data = [[row['latitude'], \n",
    "                      row['longitude'], \n",
    "                      row['count']] for index, row in heatmap_data.iterrows()]\n",
    "        \n",
    "        HeatMap(heat_data).add_to(map)\n",
    "        save_path = f'output/heatmaps/heatmap_{kroniek_value}.html'\n",
    "        map.save(save_path)"
   ]
  },
  {
   "cell_type": "code",
   "execution_count": 54,
   "metadata": {},
   "outputs": [],
   "source": [
    "def main():\n",
    "\n",
    "    current_dir = os.getcwd()\n",
    "    corpus = current_dir + '\\\\data\\\\checked_entity linking results.csv'\n",
    "\n",
    "    corpus_coordinates = import_data(corpus)\n",
    "    create_chronicle_heatmaps(current_dir, corpus_coordinates)\n",
    "    create_map(current_dir, corpus_coordinates)\n",
    "\n",
    "    return corpus_coordinates"
   ]
  },
  {
   "cell_type": "code",
   "execution_count": 55,
   "metadata": {},
   "outputs": [],
   "source": [
    "if __name__ == '__main__':\n",
    "    dataframe = main()"
   ]
  }
 ],
 "metadata": {
  "kernelspec": {
   "display_name": "Python 3",
   "language": "python",
   "name": "python3"
  },
  "language_info": {
   "codemirror_mode": {
    "name": "ipython",
    "version": 3
   },
   "file_extension": ".py",
   "mimetype": "text/x-python",
   "name": "python",
   "nbconvert_exporter": "python",
   "pygments_lexer": "ipython3",
   "version": "3.11.2"
  }
 },
 "nbformat": 4,
 "nbformat_minor": 2
}
