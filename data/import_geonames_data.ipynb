{
 "cells": [
  {
   "cell_type": "code",
   "execution_count": 41,
   "metadata": {},
   "outputs": [],
   "source": [
    "import urllib.request\n",
    "import zipfile\n",
    "import os\n",
    "import numpy as np\n",
    "import pandas as pd\n",
    "import re\n",
    "import requests"
   ]
  },
  {
   "cell_type": "markdown",
   "metadata": {},
   "source": [
    "`download_geonames_data`\n",
    "\n",
    "Deze functie automatiseert het proces van het downloaden van de data over steden wereldwijd via GeoNames. Deze data is ingepakt als ZIP-bestand. Na het uitpakken van de data wordt  het gedownloade bestand verwijderd."
   ]
  },
  {
   "cell_type": "code",
   "execution_count": 42,
   "metadata": {},
   "outputs": [],
   "source": [
    "def download_geonames_data(url):\n",
    "\n",
    "    filename = os.path.basename(url)\n",
    "    urllib.request.urlretrieve(url, filename)\n",
    "\n",
    "    with zipfile.ZipFile(filename, 'r') as zipRef:\n",
    "        zipRef.extractall()\n",
    "\n",
    "    os.remove(filename)"
   ]
  },
  {
   "cell_type": "markdown",
   "metadata": {},
   "source": [
    "`combine_geonames_data`\n",
    "\n",
    "Deze functie dient ter opschoning van de GeoNames-data. Eerst worden namen gegeven aan de kolommen zodat deze beter op te roepen zijn in het programma. Voor elke rij wordt gekekeken of de landcode `NL` (Nederland) of `BE` (België) is. Rijen die niet aan deze voorwaarde voldoen worden gefilterd. Vervolgens wordt de informatie over alternatieve plaatsnamen opgeschoond:\n",
    "1. Alle tekens die geen standaard ASCII-teken zijn, worden verwijderd;\n",
    "2. Missende waarden (`np.nan`) worden vervangen door een lege waarde (`''`);\n",
    "3. Data die staan opgeslagen als `list` (lijst met gegevens) worden omgezet naar één reeks tekens;\n",
    "4. Achtereenvolgende en overtollige komma's worden verwijderd.\n",
    "\n",
    "Ten slotte worden onnodige kolommen uit de tabel verwijderd."
   ]
  },
  {
   "cell_type": "code",
   "execution_count": 43,
   "metadata": {},
   "outputs": [],
   "source": [
    "def combine_geonames_data(folder, city_size):\n",
    "    columns = ['geonameid', 'name', 'asciiname', 'alternatenames', 'latitude', 'longitude', 'feature class', 'feature code', 'country code', 'cc2', 'admin1 code', 'admin2 code', 'admin3 code', 'admin4 code', 'population', 'elevation', 'dem', 'timezone', 'modification date']\n",
    "    filename = f'{folder}/data/cities{city_size}.txt'\n",
    "\n",
    "    dataframe = pd.read_csv(filename, names = columns, sep = '\\t', low_memory = False)\n",
    "    dataframe = dataframe[dataframe['country code'].isin(['NL', 'BE'])]\t\n",
    "\n",
    "    dataframe['alternatenames'] = dataframe['alternatenames'].apply(lambda x: re.sub(r'[^\\x00-\\x7F]+', '', x) if isinstance(x, str) else x)\n",
    "    dataframe['alternatenames'] = dataframe['alternatenames'].replace(np.nan, '')\n",
    "    dataframe['alternatenames'] = dataframe['alternatenames'].apply(lambda x: ', '.join(x) if isinstance(x, list) else x)\n",
    "    dataframe['alternatenames'] = dataframe['alternatenames'].str.replace(r',+', ',', regex = True).str.strip(',')\n",
    "\n",
    "    dataframe['city size'] = city_size\n",
    "    \n",
    "    required_columns = ['geonameid', 'name', 'alternatenames', 'latitude', 'longitude', 'country code', 'city size']\n",
    "    dataframe = dataframe[required_columns]\n",
    "\n",
    "    return dataframe"
   ]
  },
  {
   "cell_type": "markdown",
   "metadata": {},
   "source": [
    "`import_geonames_data`\n",
    "\n",
    "In de betreffende map `folder` wordt gekeken naar de GeoNames data op basis van het inwonersaantal. Hierop wordt de bovenstaande functie `combine_geonames_data` toegepast om de data in één tabel zichtbaar te maken. \n",
    "\n",
    "Omdat er overlap kan ontstaan tussen de steden op basis van hun grootte (steden met minder dan 5.000 inwoners hebben óók minder dan 500 inwoners in deze tabel) worden rijen die dezelfde `geonameid` hebben verwijderd. \n",
    "\n",
    "Als de data is samengevoegd worden de losse GeoNames-tabellen verwijderd."
   ]
  },
  {
   "cell_type": "code",
   "execution_count": 44,
   "metadata": {},
   "outputs": [],
   "source": [
    "def import_geonames_data(folder):\n",
    "    geonames_dataframe = []\n",
    "    city_sizes = ['15000', '5000', '1000', '500']\n",
    "\n",
    "    for city_size in city_sizes:\n",
    "        dataframe = combine_geonames_data(folder, city_size)\n",
    "        geonames_dataframe.append(dataframe)\n",
    "    \n",
    "    geonames_data = pd.concat(geonames_dataframe, ignore_index = True)\n",
    "    geonames_data.drop_duplicates(subset = 'geonameid', keep = 'first', inplace = True)\n",
    "\n",
    "    for city_size in city_sizes:\n",
    "        filename = f'{folder}/data/cities{city_size}.txt'\n",
    "        os.remove(filename)\n",
    "\n",
    "    return geonames_data\n"
   ]
  },
  {
   "cell_type": "markdown",
   "metadata": {},
   "source": [
    "`find_whg_variants`\n",
    "\n",
    "Via de `API` van World Historical Gazetteer (WHG) wordt aanvullende data over alternatieve stadsnamen opgezocht. Dit geschiedt op basis van de data over de stadsnaam (`city` in de kolom) en de landcode (`country_code` in de kolom). Dit levert JSON-data op, waarvan de data over `variants` wordt gefilterd. Deze data wordt opgeslagen in `results`, elke keer dat deze functie wordt aangeroepen."
   ]
  },
  {
   "cell_type": "code",
   "execution_count": 45,
   "metadata": {},
   "outputs": [],
   "source": [
    "def find_whg_variants(city, country_code):\n",
    "    url = f\"https://whgazetteer.org/api/index/?name={city}&ccode={country_code}\"\n",
    "\n",
    "    response = requests.get(url)\n",
    "    data = response.json()\n",
    "    features = data['features']\n",
    "    results = []\n",
    "\n",
    "    for feature in features:\n",
    "        properties = feature['properties']\n",
    "        variants = properties['variants']\n",
    "\n",
    "        for variant in variants:\n",
    "            if re.match('^[a-zA-Z/s]+$', variant):\n",
    "                results.append(variant)\n",
    "\n",
    "        results.append(properties['title'])\n",
    "\n",
    "    return results"
   ]
  },
  {
   "cell_type": "markdown",
   "metadata": {},
   "source": [
    "`find_variants`\n",
    "\n",
    "Deze code maakt gebruik van de `find_whg_variants` functie. Voor elke rij in de `geonames_data`-tabel, wordt informatie over de `city`, `country_code` en `alternatenames` verzameld. Vervolgens wordt op basis van de stadsnaam en de landcode gezocht naar WHG-varianten. De resultaten worden opgeslagen las `whg_variants`.\n",
    "\n",
    "De resultaten worden samengevoegd met de bestaande data onder de naam `whg_geonames_variants`. Indien er aanvullende informatie beschikbaar was in de WHG-database wordt deze toegevoegd aan de GeoNames-tabel. Anders wordt alleen de stadsnaam toegevoegd als alternatieve stadsnaam."
   ]
  },
  {
   "cell_type": "code",
   "execution_count": 46,
   "metadata": {},
   "outputs": [],
   "source": [
    "def find_variants(geonames_data):\n",
    "    for index, row in geonames_data.iterrows():\n",
    "        city = row['name']\n",
    "        country_code = row['country code']\n",
    "        variants = row['alternatenames'].split(',') if isinstance(row['alternatenames'], str) else []\n",
    "        whg_variants = find_whg_variants(city, country_code)\n",
    "\n",
    "        whg_geonames_variants = [city] + variants + whg_variants\n",
    "        whg_geonames_variants = [item for item in whg_geonames_variants if len(item) > 1]\n",
    "        whg_geonames_variants = list(set(whg_geonames_variants))\n",
    "\n",
    "        geonames_data.at[index, 'alternatenames'] = whg_geonames_variants if whg_geonames_variants else [city]\n",
    "\n",
    "    return geonames_data"
   ]
  },
  {
   "cell_type": "markdown",
   "metadata": {},
   "source": [
    "``main``\n",
    "\n",
    "Als de code al eens heeft gedraaid, en de GeoNames data is opgeslagen op de computer, wordt de code niet uitgevoerd. Anders wordt via de downloadlink van GeoNames de data over steden van meer dan 15.000, minder dan 5.000, 1.000 en 500 inwoners verzameld. \n",
    "\n",
    "Vervolgens wordt de data van GeoNames en WHG gekoppeld volgens bovenstaande code\n",
    "\n",
    "De output van het programma is een bestand genaamd `geonames_data.csv`"
   ]
  },
  {
   "cell_type": "code",
   "execution_count": 47,
   "metadata": {},
   "outputs": [],
   "source": [
    "def main():\n",
    "    if os.path.isfile('geonames_data.csv'):\n",
    "        geonames_data = pd.read_csv('geonames_data.csv')\n",
    "        return geonames_data\n",
    "    \n",
    "    else:  \n",
    "        urls = [f'https://download.geonames.org/export/dump/cities{i}.zip' for i in [15000, 5000, 1000, 500]]\n",
    "\n",
    "        for url in urls:\n",
    "            download_geonames_data(url)  \n",
    "        \n",
    "        folder = os.path.dirname(os.getcwd())\n",
    "\n",
    "        geonames_data = find_variants(import_geonames_data(folder))\n",
    "        geonames_data.to_csv(f'{folder}/data/geonames_data.csv', index=False)\n",
    "\n",
    "        return geonames_data"
   ]
  },
  {
   "cell_type": "code",
   "execution_count": 48,
   "metadata": {},
   "outputs": [],
   "source": [
    "if __name__ == '__main__':\n",
    "    main()"
   ]
  }
 ],
 "metadata": {
  "kernelspec": {
   "display_name": "Python 3",
   "language": "python",
   "name": "python3"
  },
  "language_info": {
   "codemirror_mode": {
    "name": "ipython",
    "version": 3
   },
   "file_extension": ".py",
   "mimetype": "text/x-python",
   "name": "python",
   "nbconvert_exporter": "python",
   "pygments_lexer": "ipython3",
   "version": "3.11.2"
  }
 },
 "nbformat": 4,
 "nbformat_minor": 2
}
