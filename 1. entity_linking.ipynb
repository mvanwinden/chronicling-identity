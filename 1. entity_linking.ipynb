{
 "cells": [
  {
   "cell_type": "code",
   "execution_count": 17,
   "metadata": {},
   "outputs": [],
   "source": [
    "import json\n",
    "from bs4 import BeautifulSoup as bs\n",
    "import pandas as pd\n",
    "import textdistance"
   ]
  },
  {
   "cell_type": "markdown",
   "metadata": {},
   "source": [
    "`extract_unique_locations`\n",
    "\n",
    "Het corpusbestand `corpus_1568-1609.ndjson`, genoemd `corpus`, wordt geopend. De informatie onder `tekst` wordt gelezen als html-code, waarin alle `locatie`-tags worden verzameld. Alle unieke tags worden toegevoegd aan de set `unique_variations.`"
   ]
  },
  {
   "cell_type": "code",
   "execution_count": 18,
   "metadata": {},
   "outputs": [],
   "source": [
    "def extract_unique_locations(corpus):\n",
    "    unique_variations = set()\n",
    "\n",
    "    with open(corpus, 'r', encoding='utf-8') as corpus_file:\n",
    "        for line in corpus_file:\n",
    "            data = json.loads(line)\n",
    "            soup = bs(data['tekst'], 'html.parser')\n",
    "            locatie_tags = soup.find_all('locatie')\n",
    "            variation_values = [tag.text.strip() for tag in locatie_tags]\n",
    "            unique_variations.update(variation_values)\n",
    "\n",
    "    return list(unique_variations)"
   ]
  },
  {
   "cell_type": "markdown",
   "metadata": {},
   "source": [
    "`import_geonames_data`\n",
    "\n",
    "De GeoNames-tabel wordt geïmporteerd. De waardes voor `name` en `alternatenames` worden in kleine letters geschreven om te voorkomen dat er verschillen worden opgemerkt op basis van kleine letters en hoofdletters.\n",
    "\n",
    "De informatie over de stadsnaam en de (spellings)variaties van die stadsnaam worden opgeslagen in een `dict` genaamd `geonames_dict`. "
   ]
  },
  {
   "cell_type": "code",
   "execution_count": 19,
   "metadata": {},
   "outputs": [],
   "source": [
    "def import_geonames_data(geonames_data):\n",
    "    geonames_dataframe = pd.read_csv(geonames_data)\n",
    "    geonames_dict = {}\n",
    "    \n",
    "    for index, row in geonames_dataframe.iterrows():\n",
    "        name = row['name'].lower()\n",
    "        alternatenames = row['alternatenames'].lower()\n",
    "        alternatenames_list = [name.strip() for name in alternatenames.strip(\"[]\").replace(\"'\", \"\").split(\",\")]\n",
    "        geonames_dict[name] = alternatenames_list\n",
    "\n",
    "    return geonames_dict"
   ]
  },
  {
   "cell_type": "markdown",
   "metadata": {},
   "source": [
    "`entity_linking_locations`\n",
    "\n",
    "De locatietags (`corpus_locations`) worden vergeleken met de data uit GeoNames (`geonames_data`). Als een locatie één op één overeenkomt met een variatie uit GeoNames, is het resultaat van het entity linking proces met de waarde uit GeoNames die bij de variatie past. Als er geen overeenkomstige waarden zijn, wordt op basis van de afstanden tussen waardes uit het corpus en waardes uit de GeoNames-data gekeken welke waarden het dichtst bij elkaar liggen. Als er een waarde is met een afstand groter dan 0.7, wordt variatie met de hoogste score toegeschreven als resultaat."
   ]
  },
  {
   "cell_type": "code",
   "execution_count": 20,
   "metadata": {},
   "outputs": [],
   "source": [
    "def entity_linking_locations(corpus_locations, geonames_data):\n",
    "    result_dict = {}\n",
    "\n",
    "    for variation in corpus_locations:\n",
    "        variation_lower = variation.lower()\n",
    "\n",
    "        if variation_lower in geonames_data:\n",
    "            result_dict[variation] = [variation_lower]\n",
    "\n",
    "        else:\n",
    "            best_match_city = ''\n",
    "            max_similarity = 0\n",
    "\n",
    "            for city, variants in geonames_data.items():\n",
    "                for variant in variants:\n",
    "                    similarity_score = textdistance.damerau_levenshtein.normalized_similarity(variation_lower, variant)\n",
    "                \n",
    "                    if similarity_score > max_similarity:\n",
    "                        max_similarity = similarity_score\n",
    "                        best_match_city = city\n",
    "\n",
    "            if max_similarity >= 0.7:\n",
    "                result_dict[variation] = [best_match_city]\n",
    "            else:\n",
    "                result_dict[variation] = []\n",
    "\n",
    "    return result_dict"
   ]
  },
  {
   "cell_type": "markdown",
   "metadata": {},
   "source": [
    "`main`\n",
    "\n",
    "Entity-linkingproces:\n",
    "1. De GeoNames-tabel wordt geladen;\n",
    "2. De unieke locatietags in het corpus worden verzameld;\n",
    "3. De unieke locatietags in het corpus worden gekoppeld aan de GeoNames-data.\n",
    "\n",
    "De resultaten worden geëxporteerd naar `entity linking_results.csv`"
   ]
  },
  {
   "cell_type": "code",
   "execution_count": 21,
   "metadata": {},
   "outputs": [],
   "source": [
    "def main():\n",
    "    geonames_data = 'data/geonames_data.csv'\n",
    "    corpus_file_path = 'data/corpus_1568-1609.ndjson'\n",
    "\n",
    "    geonames_dict = import_geonames_data(geonames_data)\n",
    "    location_list = extract_unique_locations(corpus_file_path)\n",
    "    result_dict = entity_linking_locations(location_list, geonames_dict)\n",
    "\n",
    "    dataframe = pd.DataFrame(result_dict.items())\n",
    "    dataframe.to_csv('data/entity linking_results.csv', index=False)"
   ]
  },
  {
   "cell_type": "code",
   "execution_count": 22,
   "metadata": {},
   "outputs": [],
   "source": [
    "if __name__ == '__main__':\n",
    "    main()"
   ]
  }
 ],
 "metadata": {
  "kernelspec": {
   "display_name": "Python 3",
   "language": "python",
   "name": "python3"
  },
  "language_info": {
   "codemirror_mode": {
    "name": "ipython",
    "version": 3
   },
   "file_extension": ".py",
   "mimetype": "text/x-python",
   "name": "python",
   "nbconvert_exporter": "python",
   "pygments_lexer": "ipython3",
   "version": "3.11.2"
  }
 },
 "nbformat": 4,
 "nbformat_minor": 2
}
